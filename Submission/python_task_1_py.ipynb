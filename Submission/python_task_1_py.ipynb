{
  "nbformat": 4,
  "nbformat_minor": 0,
  "metadata": {
    "colab": {
      "provenance": []
    },
    "kernelspec": {
      "name": "python3",
      "display_name": "Python 3"
    },
    "language_info": {
      "name": "python"
    }
  },
  "cells": [
    {
      "cell_type": "markdown",
      "source": [
        "##Python_task_1"
      ],
      "metadata": {
        "id": "5eKTYn6JleTh"
      }
    },
    {
      "cell_type": "markdown",
      "source": [
        "##Question 1: Car Matrix Generation"
      ],
      "metadata": {
        "id": "_x3vdHJRll4l"
      }
    },
    {
      "cell_type": "code",
      "source": [
        "import pandas as pd\n",
        "\n",
        "def generate_car_matrix(df: pd.DataFrame) -> pd.DataFrame:\n",
        "   # Assuming 'id_1', 'id_2', and 'car' are columns in the DataFrame\n",
        "    matrix = df.pivot(index='id_1', columns='id_2', values='car').fillna(0)\n",
        "\n",
        "    # Set diagonal values to 0\n",
        "    for i in range(len(matrix.index)):\n",
        "        matrix.iloc[i, i] = 0\n",
        "\n",
        "    return matrix\n",
        "\n",
        "# Example usage:\n",
        "# Assuming 'your_dataset.csv' is loaded into a DataFrame named 'df'\n",
        "df = pd.read_csv('/content/dataset-1.csv')\n",
        "car_matrix_result = generate_car_matrix(df)\n",
        "print(car_matrix_result)\n"
      ],
      "metadata": {
        "id": "QradQ9xfZh0L"
      },
      "execution_count": null,
      "outputs": []
    },
    {
      "cell_type": "markdown",
      "source": [
        "##Question 2: Car Type Count Calculation"
      ],
      "metadata": {
        "id": "ixeAmxp5luNq"
      }
    },
    {
      "cell_type": "code",
      "source": [
        "def add_car_type_column_and_save(dataframe, file_path='dataset-1.csv'):\n",
        "    # Add a new column 'car_type' based on conditions\n",
        "    dataframe['car_type'] = pd.cut(dataframe['car'],\n",
        "                                   bins=[-float('inf'), 15, 25, float('inf')],\n",
        "                                   labels=['low', 'medium', 'high'],\n",
        "                                   include_lowest=True, right=True)\n",
        "\n",
        "    # Calculate the count of occurrences for each car_type category\n",
        "    type_counts = dataframe['car_type'].value_counts().to_dict()\n",
        "\n",
        "    # Sort the dictionary alphabetically based on keys\n",
        "    sorted_type_counts = dict(sorted(type_counts.items()))\n",
        "\n",
        "    # Save the DataFrame with the added 'car_type' column to the specified file\n",
        "    dataframe.to_csv(file_path, index=False)\n",
        "\n",
        "    # Print the updated DataFrame\n",
        "    print(dataframe)\n",
        "\n",
        "    return sorted_type_counts\n",
        "\n",
        "# Assuming your DataFrame is named 'df'\n",
        "# Load the dataset-1.csv into a DataFrame\n",
        "df = pd.read_csv('dataset-1.csv')\n",
        "\n",
        "# Call the function with the DataFrame and save the updated DataFrame to 'dataset-1.csv'\n",
        "result = add_car_type_column_and_save(df)\n",
        "\n",
        "# Print the result\n",
        "print(result)\n"
      ],
      "metadata": {
        "id": "pGVR6gdLZh7t"
      },
      "execution_count": null,
      "outputs": []
    },
    {
      "cell_type": "markdown",
      "source": [
        "##Question 3: Bus Count Index Retrieval"
      ],
      "metadata": {
        "id": "aGyZiQonl2Gm"
      }
    },
    {
      "cell_type": "code",
      "source": [
        "def get_bus_indexes(dataframe):\n",
        "    # Calculate the mean value of the 'bus' column\n",
        "    bus_mean = dataframe['bus'].mean()\n",
        "\n",
        "    # Identify indices where 'bus' values are greater than twice the mean\n",
        "    bus_indices = dataframe[dataframe['bus'] > 2 * bus_mean].index.tolist()\n",
        "\n",
        "    # Sort the indices in ascending order\n",
        "    bus_indices.sort()\n",
        "\n",
        "    return bus_indices\n",
        "\n",
        "\n",
        "# Load the dataset-1.csv into a DataFrame\n",
        "df = pd.read_csv('dataset-1.csv')\n",
        "\n",
        "# Call the function and print the result\n",
        "result = get_bus_indexes(df)\n",
        "print(result)\n"
      ],
      "metadata": {
        "id": "RD4iyABRZiA3"
      },
      "execution_count": null,
      "outputs": []
    },
    {
      "cell_type": "markdown",
      "source": [
        "##Question 4: Route Filtering"
      ],
      "metadata": {
        "id": "iYJ3zo4il6si"
      }
    },
    {
      "cell_type": "code",
      "source": [
        "def filter_routes(file_path):\n",
        "    # Load the dataset from the CSV file into a DataFrame\n",
        "    df = pd.read_csv(file_path)\n",
        "\n",
        "    # Calculate the average value of the 'truck' column for each route\n",
        "    route_avg_truck = df.groupby('route')['truck'].mean()\n",
        "\n",
        "    # Filter routes where the average truck value is greater than 7\n",
        "    filtered_routes = route_avg_truck[route_avg_truck > 7].index.tolist()\n",
        "\n",
        "    # Sort the list of filtered routes\n",
        "    filtered_routes.sort()\n",
        "\n",
        "    return filtered_routes\n",
        "\n",
        "# Provide the file path to the dataset-1.csv\n",
        "file_path = 'dataset-1.csv'\n",
        "\n",
        "# Call the function and print the result\n",
        "result = filter_routes(file_path)\n",
        "print(result)\n"
      ],
      "metadata": {
        "id": "3NR3asIotQtG"
      },
      "execution_count": null,
      "outputs": []
    },
    {
      "cell_type": "markdown",
      "source": [
        "##Question 5: Matrix Value Modification"
      ],
      "metadata": {
        "id": "oU5kAV2gmAUT"
      }
    },
    {
      "cell_type": "code",
      "source": [
        "def multiply_matrix(matrix: pd.DataFrame) -> pd.DataFrame:\n",
        "\n",
        "    # Copy the input matrix to avoid modifying the original DataFrame\n",
        "    modified_matrix = matrix.copy()\n",
        "\n",
        "    # Apply the specified logic to each value in the matrix\n",
        "    for column in modified_matrix.columns:\n",
        "        for index in modified_matrix.index:\n",
        "            value = modified_matrix.loc[index, column]\n",
        "\n",
        "            if value > 20:\n",
        "                modified_matrix.loc[index, column] = round(value * 0.75, 1)\n",
        "            else:\n",
        "                modified_matrix.loc[index, column] = round(value * 1.25, 1)\n",
        "\n",
        "    return modified_matrix\n",
        "\n",
        "\n",
        "modified_car_matrix = multiply_matrix(car_matrix_result)\n",
        "print(modified_car_matrix)\n"
      ],
      "metadata": {
        "id": "HYE5k2POv50T"
      },
      "execution_count": null,
      "outputs": []
    },
    {
      "cell_type": "markdown",
      "source": [
        "##Question 6: Time Check"
      ],
      "metadata": {
        "id": "rzV-FdoumEm_"
      }
    },
    {
      "cell_type": "code",
      "source": [
        "def check_time_completeness(df):\n",
        "    # Combine date and time columns into a single timestamp column\n",
        "    df['start_timestamp'] = pd.to_datetime(df['startDay'] + ' ' + df['startTime'], errors='coerce')\n",
        "    df['end_timestamp'] = pd.to_datetime(df['endDay'] + ' ' + df['endTime'], errors='coerce')\n",
        "\n",
        "    # Create a mask for entries with incorrect timestamps\n",
        "    mask = ~(\n",
        "        (df['start_timestamp'].dt.time == pd.Timestamp('00:00:00').time()) &\n",
        "        (df['end_timestamp'].dt.time == pd.Timestamp('23:59:59').time()) &\n",
        "        (df['start_timestamp'].dt.dayofweek == 0) &\n",
        "        (df['end_timestamp'].dt.dayofweek == 6)\n",
        "    )\n",
        "\n",
        "    # Group by (id, id_2) and check if any entry in the group has incorrect timestamps\n",
        "    result_series = df.groupby(['id', 'id_2'])['start_timestamp', 'end_timestamp'].apply(lambda x: any(mask.loc[x.index]))\n",
        "\n",
        "    return result_series\n",
        "\n",
        "df = pd.read_csv('/content/dataset-2.csv')\n",
        "result = check_time_completeness(df)\n",
        "incorrect_timestamps = result[result].reset_index()\n",
        "print(incorrect_timestamps)\n",
        "\n"
      ],
      "metadata": {
        "id": "lS3lic3SxqO_"
      },
      "execution_count": null,
      "outputs": []
    }
  ]
}