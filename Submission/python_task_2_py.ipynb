{
  "nbformat": 4,
  "nbformat_minor": 0,
  "metadata": {
    "colab": {
      "provenance": []
    },
    "kernelspec": {
      "name": "python3",
      "display_name": "Python 3"
    },
    "language_info": {
      "name": "python"
    }
  },
  "cells": [
    {
      "cell_type": "markdown",
      "source": [
        "#Python_task2"
      ],
      "metadata": {
        "id": "z89sRv_hj4eq"
      }
    },
    {
      "cell_type": "markdown",
      "source": [
        "##Question 1 : Distance Matrix Calculation\n"
      ],
      "metadata": {
        "id": "f7k5vPekjgvs"
      }
    },
    {
      "cell_type": "code",
      "source": [
        "import pandas as pd\n",
        "\n",
        "def calculate_distance_matrix(csv_file):\n",
        "    # Read the CSV file into a DataFrame\n",
        "    df = pd.read_csv(csv_file)\n",
        "\n",
        "    # Create a dictionary to store distances between IDs\n",
        "    distance_dict = {}\n",
        "\n",
        "    # Iterate through the rows of the DataFrame\n",
        "    for index, row in df.iterrows():\n",
        "        id_start = row['id_start']\n",
        "        id_end = row['id_end']\n",
        "        distance = row['distance']\n",
        "\n",
        "        # Add distances to the dictionary\n",
        "        if (id_start, id_end) in distance_dict:\n",
        "            distance_dict[(id_start, id_end)] += distance\n",
        "        else:\n",
        "            distance_dict[(id_start, id_end)] = distance\n",
        "\n",
        "        # Account for bidirectional distances\n",
        "        if (id_end, id_start) in distance_dict:\n",
        "            distance_dict[(id_end, id_start)] += distance\n",
        "        else:\n",
        "            distance_dict[(id_end, id_start)] = distance\n",
        "\n",
        "    # Create a list of unique IDs\n",
        "    unique_ids = sorted(set(df['id_start'].unique()) | set(df['id_end'].unique()))\n",
        "\n",
        "    # Create an empty DataFrame to store the distance matrix\n",
        "    distance_matrix = pd.DataFrame(index=unique_ids, columns=unique_ids)\n",
        "\n",
        "    # Recursive function to calculate distance between two points considering all possible paths\n",
        "    def calculate_distance_recursive(id_i, id_j, visited):\n",
        "        if id_i == id_j:\n",
        "            return 0\n",
        "        visited.add(id_i)\n",
        "        possible_distances = []\n",
        "        for neighbor_id in unique_ids:\n",
        "            if neighbor_id not in visited:\n",
        "                path1 = distance_dict.get((id_i, neighbor_id), None)\n",
        "                if path1 is not None:\n",
        "                    path2 = calculate_distance_recursive(neighbor_id, id_j, visited.copy())\n",
        "                    if path2 is not None:\n",
        "                        possible_distances.append(path1 + path2)\n",
        "        visited.remove(id_i)\n",
        "        return min(possible_distances) if possible_distances else None\n",
        "\n",
        "    # Fill in the distance matrix using the recursive function\n",
        "    for id_i in unique_ids:\n",
        "        for id_j in unique_ids:\n",
        "            distance_matrix.at[id_i, id_j] = calculate_distance_recursive(id_i, id_j, set())\n",
        "\n",
        "    # Convert distance matrix to numeric values\n",
        "    distance_matrix = distance_matrix.apply(pd.to_numeric, errors='coerce')\n",
        "\n",
        "    return distance_matrix\n",
        "\n",
        "# Example usage:\n",
        "dataset_file = \"dataset-3.csv\"\n",
        "distance_matrix = calculate_distance_matrix(dataset_file)\n",
        "print(distance_matrix)\n"
      ],
      "metadata": {
        "id": "YTs_IiGG4AWN"
      },
      "execution_count": null,
      "outputs": []
    },
    {
      "cell_type": "markdown",
      "source": [
        "##Question 2: Unroll Distance Matrix"
      ],
      "metadata": {
        "id": "27xPP6nakGQd"
      }
    },
    {
      "cell_type": "code",
      "source": [
        "def unroll_distance_matrix(distance_matrix):\n",
        "    # Create an empty list to store DataFrames for each pair\n",
        "    unrolled_dfs = []\n",
        "\n",
        "    # Iterate through the rows of the distance matrix\n",
        "    for id_start in distance_matrix.index:\n",
        "        for id_end in distance_matrix.columns:\n",
        "            # Skip same id_start to id_end combinations\n",
        "            if id_start == id_end:\n",
        "                continue\n",
        "\n",
        "            # Get the distance value from the distance matrix\n",
        "            distance = distance_matrix.at[id_start, id_end]\n",
        "\n",
        "            # Create a DataFrame for the current pair\n",
        "            current_df = pd.DataFrame({'id_start': [id_start], 'id_end': [id_end], 'distance': [distance]})\n",
        "\n",
        "            # Append the current DataFrame to the list\n",
        "            unrolled_dfs.append(current_df)\n",
        "\n",
        "    # Concatenate all DataFrames in the list into a single DataFrame\n",
        "    unrolled_df = pd.concat(unrolled_dfs, ignore_index=True)\n",
        "\n",
        "    return unrolled_df\n",
        "\n",
        "# Example usage:\n",
        "unrolled_distance_df = unroll_distance_matrix(distance_matrix)\n",
        "print(unrolled_distance_df)\n"
      ],
      "metadata": {
        "id": "PtX_27cbGU2_"
      },
      "execution_count": null,
      "outputs": []
    },
    {
      "cell_type": "markdown",
      "source": [
        "##Question 3: Finding IDs within Percentage Threshold"
      ],
      "metadata": {
        "id": "8xDiRkuZkNS5"
      }
    },
    {
      "cell_type": "code",
      "source": [
        "def find_ids_within_ten_percentage_threshold(input_df, reference_value):\n",
        "    # Filter rows based on the reference_value\n",
        "    reference_rows = input_df[input_df['id_start'] == reference_value]\n",
        "\n",
        "    # Check if the reference_value exists in the DataFrame\n",
        "    if reference_rows.empty:\n",
        "        print(f\"Reference value {reference_value} not found in the DataFrame.\")\n",
        "        return []\n",
        "\n",
        "    # Calculate the average distance for the reference_value\n",
        "    reference_average_distance = reference_rows['distance'].mean()\n",
        "\n",
        "    # Calculate the threshold range (within 10%)\n",
        "    lower_threshold = reference_average_distance * 0.9\n",
        "    upper_threshold = reference_average_distance * 1.1\n",
        "\n",
        "    # Filter rows based on the threshold range\n",
        "    filtered_rows = input_df[(input_df['id_start'] != reference_value) &\n",
        "                             (input_df['distance'] >= lower_threshold) &\n",
        "                             (input_df['distance'] <= upper_threshold)]\n",
        "\n",
        "    # Get the unique values from the id_start column and sort them\n",
        "    result_ids = sorted(filtered_rows['id_start'].unique())\n",
        "\n",
        "    return result_ids\n",
        "\n",
        "# Example usage:\n",
        "\n",
        "reference_value = 1001400\n",
        "result_ids = find_ids_within_ten_percentage_threshold(unrolled_distance_df, reference_value)\n",
        "print(result_ids)\n"
      ],
      "metadata": {
        "id": "oUjJJfrbGU5W"
      },
      "execution_count": null,
      "outputs": []
    },
    {
      "cell_type": "markdown",
      "source": [
        "##Question 4: Calculate Toll Rate"
      ],
      "metadata": {
        "id": "JwkpIq7bkSi2"
      }
    },
    {
      "cell_type": "code",
      "source": [
        "def calculate_toll_rate(input_df):\n",
        "    # Create a copy of the input DataFrame to avoid modifying the original\n",
        "    df_with_toll = input_df.copy()\n",
        "\n",
        "    # Define rate coefficients for each vehicle type\n",
        "    rate_coefficients = {'moto': 0.8, 'car': 1.2, 'rv': 1.5, 'bus': 2.2, 'truck': 3.6}\n",
        "\n",
        "    # Calculate toll rates for each vehicle type\n",
        "    for vehicle_type, rate_coefficient in rate_coefficients.items():\n",
        "        df_with_toll[vehicle_type] = df_with_toll['distance'] * rate_coefficient\n",
        "\n",
        "    return df_with_toll\n",
        "\n",
        "# Example usage:\n",
        "df_with_toll = calculate_toll_rate(unrolled_distance_df)\n",
        "print(df_with_toll)\n"
      ],
      "metadata": {
        "id": "IjBPoXPiGU8x"
      },
      "execution_count": null,
      "outputs": []
    },
    {
      "cell_type": "markdown",
      "source": [
        "##Question 5: Calculate Time-Based Toll Rates"
      ],
      "metadata": {
        "id": "OZWeRB3AkXGt"
      }
    },
    {
      "cell_type": "code",
      "source": [
        "import numpy as np\n",
        "from datetime import datetime as dt\n",
        "from itertools import product\n",
        "\n",
        "def calculate_time_based_toll_rates(result4):\n",
        "\n",
        "    # Define the time ranges\n",
        "    weekday_time_ranges = [\n",
        "        (time(0, 0, 0), time(10, 0, 0)),\n",
        "        (time(10, 0, 0), time(18, 0, 0)),\n",
        "        (time(18, 0, 0), time(23, 59, 59))\n",
        "    ]\n",
        "\n",
        "    # Weekend time ranges\n",
        "    weekend_time_ranges = [\n",
        "        (time(0, 0, 0), time(23, 59, 59))\n",
        "    ]\n",
        "\n",
        "    # Create a DataFrame with the weekday time ranges\n",
        "    weekday_time_ranges_df = pd.DataFrame(weekday_time_ranges, columns=['start_time', 'end_time'])\n",
        "\n",
        "    weekday_time_ranges_df = pd.concat([weekday_time_ranges_df] * len(result4), ignore_index=True)\n",
        "\n",
        "    # Add 'id' column to the weekday_time_ranges_df\n",
        "    weekday_time_ranges_df['id_start'] = result4['id_start']\n",
        "    weekday_time_ranges_df['id_end'] = result4['id_end']\n",
        "\n",
        "    # Create a DataFrame with the weekend time ranges\n",
        "    weekend_time_ranges_df = pd.DataFrame(weekend_time_ranges, columns=['start_time', 'end_time'])\n",
        "\n",
        "    # Repeat the weekend time ranges for each unique id\n",
        "    weekend_time_ranges_df = pd.concat([weekend_time_ranges_df] * len(result4), ignore_index=True)\n",
        "\n",
        "    # Add 'id' column to the weekend_time_ranges_df\n",
        "    weekend_time_ranges_df['id_start'] = result4['id_start']\n",
        "    weekend_time_ranges_df['id_end'] = result4['id_end']\n",
        "\n",
        "\n",
        "    result_df = pd.merge(result4, weekday_time_ranges_df, on=['id_start','id_end'])\n",
        "\n",
        "    from itertools import product\n",
        "\n",
        "    # Define the days of the week\n",
        "    weekdays= ['Monday', 'Tuesday', 'Wednesday', 'Thursday', 'Friday','Saturday','Sunday']\n",
        "    weekends=['Saturday','Sunday']\n",
        "    # Generate all combinations of start and end days\n",
        "    day_combinations_weekdays = list(product(weekdays, repeat=2))\n",
        "    day_combinations_weekends = list(product(weekends, repeat=2))\n",
        "\n",
        "    # Create a DataFrame with the day combinations\n",
        "    day_combinations_df_weekdays = pd.DataFrame(day_combinations_weekdays, columns=['start_day', 'end_day'])\n",
        "    day_combinations_df_weekends = pd.DataFrame(day_combinations_weekends, columns=['start_day', 'end_day'])\n",
        "\n",
        "    # Repeat the day combinations for each unique id\n",
        "    day_combinations_df_weekdays = pd.concat([day_combinations_df_weekdays] * len(result4), ignore_index=True)\n",
        "    day_combinations_df_weekdays['id_start'] = result4['id_start']\n",
        "    day_combinations_df_weekdays['id_end'] = result4['id_end']\n",
        "\n",
        "    day_combinations_df_weekends = pd.concat([day_combinations_df_weekends] * len(result4), ignore_index=True)\n",
        "    day_combinations_df_weekends['id_start'] = result4['id_start']\n",
        "    day_combinations_df_weekends['id_end'] = result4['id_end']\n",
        "\n",
        "    result_df=pd.merge(result_df,day_combinations_df_weekdays,on=['id_start','id_end'])\n",
        "    weekend_comb=pd.merge(weekend_time_ranges_df,day_combinations_df_weekends,on=['id_start','id_end'])\n",
        "    result_df1=pd.merge(result_df[['id_start','id_end','distance','moto','car','rv','bus','truck']],weekend_comb,on=['id_start','id_end'])\n",
        "    final_df=pd.concat([result_df,result_df1],axis=0)\n",
        "\n",
        "    #result_df = pd.merge(result_df, day_combinations_df, on=['id_start','id_end'])\n",
        "    final_df['start_time']=np.where((final_df['start_day'].isin(['Saturday','Sunday']))&(final_df['end_day'].isin(['Saturday','Sunday'])),time(0,0,0),final_df['start_time'])\n",
        "    final_df['end_time']=np.where((final_df['start_day'].isin(['Saturday','Sunday']))&(final_df['end_day'].isin(['Saturday','Sunday'])),time(23,59,59),final_df['end_time'])\n",
        "\n",
        "    # Print the resulting DataFrame\n",
        "    final_df=final_df.drop_duplicates()\n",
        "    def coeff(x):\n",
        "        if x[0] in ['Saturday','Sunday']:\n",
        "            return 0.7\n",
        "        else:\n",
        "            if x[1]==time(0,0,0):\n",
        "                return 0.8\n",
        "            elif x[1]==time(10,0,0):\n",
        "                return 1.2\n",
        "            else:\n",
        "                return 0.8\n",
        "    final_df['coeff']=final_df[['start_day','start_time']].apply(coeff,axis=1)\n",
        "    for col in ['moto','car','rv','bus','truck']:\n",
        "        final_df[col]=final_df[col]*final_df['coeff']\n",
        "    del final_df['coeff']\n",
        "    return final_df"
      ],
      "metadata": {
        "id": "x055fpKV4AaM"
      },
      "execution_count": null,
      "outputs": []
    },
    {
      "cell_type": "code",
      "source": [],
      "metadata": {
        "id": "d3lPn5RI4AcM"
      },
      "execution_count": null,
      "outputs": []
    },
    {
      "cell_type": "code",
      "source": [],
      "metadata": {
        "id": "jrYu7m_K4AeS"
      },
      "execution_count": null,
      "outputs": []
    },
    {
      "cell_type": "code",
      "source": [],
      "metadata": {
        "id": "rAHOmy034AgE"
      },
      "execution_count": null,
      "outputs": []
    },
    {
      "cell_type": "code",
      "source": [],
      "metadata": {
        "id": "s28nBUk64Ajq"
      },
      "execution_count": null,
      "outputs": []
    }
  ]
}